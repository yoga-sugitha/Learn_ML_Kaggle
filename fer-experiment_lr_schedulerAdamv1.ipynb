{
 "cells": [
  {
   "cell_type": "code",
   "execution_count": 1,
   "id": "3ac4c626",
   "metadata": {
    "_cell_guid": "3d4d5fcd-4ce0-49f0-81c7-5ebac4261b34",
    "_uuid": "06cf6947-f331-4ee2-b1f7-bff68b4b6a8b",
    "collapsed": false,
    "execution": {
     "iopub.execute_input": "2025-10-01T00:51:22.305842Z",
     "iopub.status.busy": "2025-10-01T00:51:22.305242Z",
     "iopub.status.idle": "2025-10-01T00:51:49.575795Z",
     "shell.execute_reply": "2025-10-01T00:51:49.574941Z"
    },
    "jupyter": {
     "outputs_hidden": false
    },
    "papermill": {
     "duration": 27.278809,
     "end_time": "2025-10-01T00:51:49.577368",
     "exception": false,
     "start_time": "2025-10-01T00:51:22.298559",
     "status": "completed"
    },
    "tags": []
   },
   "outputs": [
    {
     "name": "stderr",
     "output_type": "stream",
     "text": [
      "2025-10-01 00:51:37.649775: E external/local_xla/xla/stream_executor/cuda/cuda_fft.cc:477] Unable to register cuFFT factory: Attempting to register factory for plugin cuFFT when one has already been registered\n",
      "WARNING: All log messages before absl::InitializeLog() is called are written to STDERR\n",
      "E0000 00:00:1759279897.852159      19 cuda_dnn.cc:8310] Unable to register cuDNN factory: Attempting to register factory for plugin cuDNN when one has already been registered\n",
      "E0000 00:00:1759279897.907600      19 cuda_blas.cc:1418] Unable to register cuBLAS factory: Attempting to register factory for plugin cuBLAS when one has already been registered\n"
     ]
    }
   ],
   "source": [
    "import os, random, shutil\n",
    "import numpy as np\n",
    "import pandas as pd\n",
    "import matplotlib.pyplot as plt\n",
    "import seaborn as sns\n",
    "from PIL import Image\n",
    "from pathlib import Path\n",
    "from tqdm.auto import tqdm\n",
    "from collections import Counter\n",
    "from datetime import datetime\n",
    "from sklearn.model_selection import train_test_split\n",
    "import torch\n",
    "from torchinfo import summary\n",
    "from torch.optim import Optimizer\n",
    "from torch import nn, accelerator\n",
    "from torch.utils.data import DataLoader, Dataset, random_split\n",
    "from torchvision import datasets, transforms\n",
    "from sklearn.metrics import f1_score, confusion_matrix, ConfusionMatrixDisplay\n",
    "from torch.utils.tensorboard import SummaryWriter\n",
    "from ignite.engine import create_supervised_trainer, create_supervised_evaluator\n",
    "from ignite.metrics import Loss, Accuracy\n",
    "from ignite.contrib.handlers import FastaiLRFinder, ProgressBar\n",
    "\n",
    "def set_seed(seed: int = 123):\n",
    "    random.seed(seed)\n",
    "    np.random.seed(seed)\n",
    "    os.environ.get('PYTHONHASHSEED') == str(seed)\n",
    "    torch.manual_seed(seed)\n",
    "    torch.cuda.manual_seed(seed)\n",
    "    torch.cuda.manual_seed_all(seed)  \n",
    "    # torch.backends.cudnn.deterministic = True\n",
    "    # torch.backends.cudnn.benchmark = False\n",
    "\n",
    "device = accelerator.current_accelerator() if accelerator.is_available() else torch.device('cpu')"
   ]
  },
  {
   "cell_type": "code",
   "execution_count": 2,
   "id": "2dba7cd1",
   "metadata": {
    "_cell_guid": "1c7aa88e-2e44-4691-bcbe-62766e0503c9",
    "_uuid": "424cf6c3-5006-4a02-825d-a526b0c2611c",
    "collapsed": false,
    "execution": {
     "iopub.execute_input": "2025-10-01T00:51:49.587630Z",
     "iopub.status.busy": "2025-10-01T00:51:49.586522Z",
     "iopub.status.idle": "2025-10-01T00:51:49.590836Z",
     "shell.execute_reply": "2025-10-01T00:51:49.590137Z"
    },
    "jupyter": {
     "outputs_hidden": false
    },
    "papermill": {
     "duration": 0.009971,
     "end_time": "2025-10-01T00:51:49.592000",
     "exception": false,
     "start_time": "2025-10-01T00:51:49.582029",
     "status": "completed"
    },
    "tags": []
   },
   "outputs": [],
   "source": [
    "dir_path = Path('/kaggle/input/fer2013')\n",
    "train_dir = dir_path / 'train'\n",
    "test_dir = dir_path / 'test'"
   ]
  },
  {
   "cell_type": "code",
   "execution_count": 3,
   "id": "197b5a3d",
   "metadata": {
    "_cell_guid": "494644e4-d575-4bbd-977f-880c4ea95a7b",
    "_uuid": "7299217b-9b07-4f29-b766-5d207a7bf3a5",
    "collapsed": false,
    "execution": {
     "iopub.execute_input": "2025-10-01T00:51:49.600204Z",
     "iopub.status.busy": "2025-10-01T00:51:49.600000Z",
     "iopub.status.idle": "2025-10-01T00:51:49.603334Z",
     "shell.execute_reply": "2025-10-01T00:51:49.602819Z"
    },
    "jupyter": {
     "outputs_hidden": false
    },
    "papermill": {
     "duration": 0.008578,
     "end_time": "2025-10-01T00:51:49.604367",
     "exception": false,
     "start_time": "2025-10-01T00:51:49.595789",
     "status": "completed"
    },
    "tags": []
   },
   "outputs": [],
   "source": [
    "# def plot_class_distribution(data_dir, title):\n",
    "\n",
    "#     class_counts = {}\n",
    "#     class_names = sorted([d.name for d in data_dir.iterdir() if d.is_dir()])\n",
    "    \n",
    "#     for class_name in class_names:\n",
    "#         class_dir = data_dir / class_name\n",
    "#         class_counts[class_name] = len(list(class_dir.glob('*.*')))\n",
    "\n",
    "#     plt.figure(figsize=(12, 6))\n",
    "#     bars = plt.bar(class_counts.keys(), class_counts.values())\n",
    "#     plt.title(f'Class Distribution - {title}')\n",
    "#     plt.xlabel('Emotion Classes')\n",
    "#     plt.ylabel('Number of Images')\n",
    "#     plt.xticks(rotation=45)\n",
    "\n",
    "#     for bar, count in zip(bars, class_counts.values()):\n",
    "#         plt.text(bar.get_x() + bar.get_width()/2, bar.get_height() + 5, \n",
    "#                 str(count), ha='center', va='bottom')\n",
    "    \n",
    "#     plt.tight_layout()\n",
    "#     plt.show()\n",
    "    \n",
    "#     return class_counts\n",
    "\n",
    "\n",
    "# train_counts = plot_class_distribution(train_dir, 'Original Training Set')\n",
    "# test_counts = plot_class_distribution(test_dir, 'Test Set')"
   ]
  },
  {
   "cell_type": "code",
   "execution_count": 4,
   "id": "2975cfdb",
   "metadata": {
    "_cell_guid": "73dcd2bd-9400-44c7-83df-abe3c7dbcf9c",
    "_uuid": "d905cae8-c244-49cf-b96b-c6ca12fdc837",
    "collapsed": false,
    "execution": {
     "iopub.execute_input": "2025-10-01T00:51:49.612869Z",
     "iopub.status.busy": "2025-10-01T00:51:49.612655Z",
     "iopub.status.idle": "2025-10-01T00:52:56.817356Z",
     "shell.execute_reply": "2025-10-01T00:52:56.816758Z"
    },
    "jupyter": {
     "outputs_hidden": false
    },
    "papermill": {
     "duration": 67.210636,
     "end_time": "2025-10-01T00:52:56.818812",
     "exception": false,
     "start_time": "2025-10-01T00:51:49.608176",
     "status": "completed"
    },
    "tags": []
   },
   "outputs": [],
   "source": [
    "base_transforms = transforms.Compose([\n",
    "    transforms.Resize((224, 224)),\n",
    "    transforms.ToTensor(),\n",
    "    transforms.Normalize(mean=[0.485, 0.456, 0.406], std=[0.229, 0.224, 0.225])\n",
    "])\n",
    "\n",
    "train_transform_geo = transforms.Compose([\n",
    "    transforms.Resize((224, 224)),\n",
    "    # --- GEOMETRIC AUGS START ---\n",
    "    transforms.RandomRotation(20),\n",
    "    transforms.RandomHorizontalFlip(p=0.5),\n",
    "    transforms.RandomVerticalFlip(p=0.3),\n",
    "    # --- GEOMETRIC AUGS END ---\n",
    "    transforms.ToTensor(),\n",
    "    transforms.Normalize(mean=[0.485, 0.456, 0.406], std=[0.229, 0.224, 0.225])\n",
    "])\n",
    "\n",
    "train_transform_geo_ngeo = transforms.Compose([\n",
    "    transforms.Resize((224, 224)),\n",
    "    # --- COLOR AUGS START ---\n",
    "    # scale down the color jitter from 0.2 to 0.1\n",
    "    transforms.ColorJitter(brightness=0.1, contrast=0.1, saturation=0.1),\n",
    "    transforms.GaussianBlur(kernel_size=(3, 3)), # You can add this too\n",
    "    transforms.RandomAdjustSharpness(sharpness_factor=2, p=0.5),\n",
    "    # --- COLOR AUGS END ---\n",
    "    transforms.ToTensor(),\n",
    "    transforms.Normalize(mean=[0.485, 0.456, 0.406], std=[0.229, 0.224, 0.225])\n",
    "])\n",
    "\n",
    "full_train_dataset = datasets.ImageFolder(train_dir)\n",
    "\n",
    "\n",
    "train_size = int(0.8 * len(full_train_dataset))\n",
    "val_size = len(full_train_dataset) - train_size\n",
    "\n",
    "class TransformDataset(Dataset):\n",
    "    def __init__(self, subset, transform=None):\n",
    "        self.subset = subset\n",
    "        self.transform = transform\n",
    "        self.classes = subset.dataset.classes\n",
    "        self.class_to_idx = subset.dataset.class_to_idx\n",
    "\n",
    "    def __len__(self):\n",
    "        return len(self.subset)\n",
    "\n",
    "    def __getitem__(self, index):\n",
    "        x, y = self.subset[index]\n",
    "        if self.transform:\n",
    "            x = self.transform(x)\n",
    "\n",
    "        return x, y\n",
    "        \n",
    "\n",
    "train_subset, val_subset = random_split(full_train_dataset, [train_size, val_size])\n",
    "train_dataset = TransformDataset(train_subset, base_transforms)\n",
    "val_dataset = TransformDataset(val_subset, base_transforms)\n",
    "test_dataset = datasets.ImageFolder(test_dir, base_transforms)\n",
    "class_names = full_train_dataset.classes"
   ]
  },
  {
   "cell_type": "code",
   "execution_count": 5,
   "id": "deda1b75",
   "metadata": {
    "_cell_guid": "6cd6a226-5eb7-482b-9d8c-6c7140efe95f",
    "_uuid": "e0224d9d-9708-4aad-8f64-f15587a644a1",
    "collapsed": false,
    "execution": {
     "iopub.execute_input": "2025-10-01T00:52:56.827779Z",
     "iopub.status.busy": "2025-10-01T00:52:56.827499Z",
     "iopub.status.idle": "2025-10-01T00:52:56.832248Z",
     "shell.execute_reply": "2025-10-01T00:52:56.831556Z"
    },
    "jupyter": {
     "outputs_hidden": false
    },
    "papermill": {
     "duration": 0.010216,
     "end_time": "2025-10-01T00:52:56.833357",
     "exception": false,
     "start_time": "2025-10-01T00:52:56.823141",
     "status": "completed"
    },
    "tags": []
   },
   "outputs": [],
   "source": [
    "# Load train, val, dan test dataloaders\n",
    "BATCH_SIZE = 32\n",
    "NUM_WORKERS = os.cpu_count()\n",
    "\n",
    "\n",
    "train_dl = DataLoader(train_dataset, \n",
    "                      batch_size=BATCH_SIZE,\n",
    "                      shuffle=True,\n",
    "                      pin_memory=True,\n",
    "                      num_workers=NUM_WORKERS)\n",
    "val_dl = DataLoader(val_dataset,\n",
    "                    batch_size=BATCH_SIZE,\n",
    "                    shuffle=False,\n",
    "                    pin_memory=True,\n",
    "                    num_workers=NUM_WORKERS)\n",
    "test_dl = DataLoader(test_dataset, \n",
    "                      batch_size=BATCH_SIZE,\n",
    "                      shuffle=False,\n",
    "                      pin_memory=True,\n",
    "                      num_workers=NUM_WORKERS)"
   ]
  },
  {
   "cell_type": "code",
   "execution_count": 6,
   "id": "d8bf7ec1",
   "metadata": {
    "_cell_guid": "362cb66d-6d99-4745-8a98-52f1be5b2bab",
    "_uuid": "b8496ade-0056-4e9e-8e1e-a7d649b225f4",
    "collapsed": false,
    "execution": {
     "iopub.execute_input": "2025-10-01T00:52:56.841822Z",
     "iopub.status.busy": "2025-10-01T00:52:56.841287Z",
     "iopub.status.idle": "2025-10-01T00:52:56.844727Z",
     "shell.execute_reply": "2025-10-01T00:52:56.844195Z"
    },
    "jupyter": {
     "outputs_hidden": false
    },
    "papermill": {
     "duration": 0.008652,
     "end_time": "2025-10-01T00:52:56.845725",
     "exception": false,
     "start_time": "2025-10-01T00:52:56.837073",
     "status": "completed"
    },
    "tags": []
   },
   "outputs": [],
   "source": [
    "# fig = plt.figure(figsize=(9,8))\n",
    "# rx, cy = 4, 4\n",
    "\n",
    "# for i in range(1, rx * cy + 1):\n",
    "#     r_idx = np.random.randint(0, len(full_train_dataset), size=1).item()\n",
    "#     img, label = full_train_dataset[r_idx]\n",
    "#     fig.add_subplot(rx, cy, i)\n",
    "#     plt.imshow(img)\n",
    "#     plt.title(f\"{class_names[label]}\")\n",
    "#     plt.axis(False);\n",
    "# num_classes = len(class_names)\n",
    "# cols = num_classes  # all in one row\n",
    "# rows = 1\n",
    "\n",
    "# fig, axes = plt.subplots(rows, cols, figsize=(2*cols, 2.5))  # scale with cols\n",
    "\n",
    "# rng = np.random.default_rng(42)  # reproducible\n",
    "\n",
    "# for i, ax in enumerate(axes):\n",
    "#     # get one random sample for each class\n",
    "#     indices = [idx for idx, (_, label) in enumerate(full_train_dataset) if label == i]\n",
    "#     choice = rng.choice(indices)\n",
    "#     img, label = full_train_dataset[choice]\n",
    "#     plt.savefig(\"dataset_examples.png\", dpi=300)  # save as PNG\n",
    "#     ax.imshow(img, cmap=\"gray\")  # minimalist = grayscale\n",
    "#     ax.set_title(class_names[label], fontsize=12, pad=4)\n",
    "#     ax.axis(\"off\")\n",
    "\n",
    "# plt.tight_layout()\n",
    "# plt.show()"
   ]
  },
  {
   "cell_type": "code",
   "execution_count": 7,
   "id": "7e739e34",
   "metadata": {
    "_cell_guid": "3412d3ae-4b5d-46c3-84ab-cc957849d93a",
    "_uuid": "3c69f0fd-7b8b-4489-9251-536ede632eae",
    "collapsed": false,
    "execution": {
     "iopub.execute_input": "2025-10-01T00:52:56.854648Z",
     "iopub.status.busy": "2025-10-01T00:52:56.854401Z",
     "iopub.status.idle": "2025-10-01T00:52:56.861714Z",
     "shell.execute_reply": "2025-10-01T00:52:56.860945Z"
    },
    "jupyter": {
     "outputs_hidden": false
    },
    "papermill": {
     "duration": 0.013619,
     "end_time": "2025-10-01T00:52:56.863039",
     "exception": false,
     "start_time": "2025-10-01T00:52:56.849420",
     "status": "completed"
    },
    "tags": []
   },
   "outputs": [],
   "source": [
    "class BaseNet(nn.Module):\n",
    "    def __init__(self, num_classes):\n",
    "        super(BaseNet, self).__init__()\n",
    "        self.conv_block1= nn.Sequential(\n",
    "            nn.Conv2d(in_channels=3, out_channels=32, kernel_size=3, stride=1, padding=1),\n",
    "            nn.BatchNorm2d(32),\n",
    "            nn.ReLU(),\n",
    "            nn.Conv2d(32, 64, 3, stride=1,padding=1),\n",
    "            nn.ReLU(),\n",
    "            nn.MaxPool2d(2)\n",
    "        )\n",
    "        \n",
    "        self.conv_block2= nn.Sequential(\n",
    "            nn.Conv2d(64, 128, 3, stride=1, padding=1),\n",
    "            nn.BatchNorm2d(128),\n",
    "            nn.ReLU(),\n",
    "            nn.Conv2d(128, 256, 3, stride=1,padding=1),\n",
    "            nn.ReLU(),\n",
    "            nn.MaxPool2d(2)\n",
    "        )\n",
    "        \n",
    "        self.global_pool = nn.AdaptiveAvgPool2d(1)\n",
    "        \n",
    "        self.classifier = nn.Sequential(\n",
    "            nn.Linear(256, 128),\n",
    "            nn.ReLU(),\n",
    "            nn.Dropout(0.5),\n",
    "            nn.Linear(128, num_classes)\n",
    "        )\n",
    "\n",
    "    def forward(self, x):\n",
    "        x = self.conv_block2(self.conv_block1(x))\n",
    "        x = self.global_pool(x)\n",
    "        x = x.view(x.size(0), -1)\n",
    "        return self.classifier(x)"
   ]
  },
  {
   "cell_type": "code",
   "execution_count": 8,
   "id": "71339e56",
   "metadata": {
    "_cell_guid": "187dc751-70ce-4f19-986c-2af6b5156081",
    "_uuid": "af980107-7078-4929-a334-3759adfd5591",
    "collapsed": false,
    "execution": {
     "iopub.execute_input": "2025-10-01T00:52:56.872501Z",
     "iopub.status.busy": "2025-10-01T00:52:56.872265Z",
     "iopub.status.idle": "2025-10-01T00:52:56.883398Z",
     "shell.execute_reply": "2025-10-01T00:52:56.882893Z"
    },
    "jupyter": {
     "outputs_hidden": false
    },
    "papermill": {
     "duration": 0.017108,
     "end_time": "2025-10-01T00:52:56.884365",
     "exception": false,
     "start_time": "2025-10-01T00:52:56.867257",
     "status": "completed"
    },
    "tags": []
   },
   "outputs": [],
   "source": [
    "def create_writer(exp_name, model_name='plainCNN', extra=None):\n",
    "    timestamp = datetime.now().strftime(\"%Y-%m-%d\")\n",
    "    \n",
    "    if extra:\n",
    "        log_dir = os.path.join('runs', timestamp, exp_name, model_name, extra)\n",
    "    else:\n",
    "        log_dir = os.path.join('runs', timestamp, exp_name, model_name)\n",
    "        \n",
    "    print(f\"Created SummaryWriter: saving to: {log_dir}\")\n",
    "    return SummaryWriter(log_dir=log_dir)\n",
    "    \n",
    "def train_step(model, dataloader, loss_fn, optimizer, device):\n",
    "    model.train()\n",
    "    train_loss, train_acc = 0, 0\n",
    "    for X, y in dataloader:\n",
    "        X, y = X.to(device), y.to(device)\n",
    "        \n",
    "        optimizer.zero_grad()\n",
    "        outputs = model(X)\n",
    "        loss = loss_fn(outputs, y)\n",
    "\n",
    "        loss.backward()\n",
    "        optimizer.step()\n",
    "\n",
    "        train_loss += loss.item()\n",
    "        y_preds = outputs.argmax(dim=1)\n",
    "        train_acc += (y_preds == y).sum().item() / len(y_preds)\n",
    "        \n",
    "    train_loss = train_loss / len(dataloader)\n",
    "    train_acc = train_acc / len(dataloader)\n",
    "\n",
    "    return train_loss, train_acc\n",
    "\n",
    "def val_step(model, dataloader, loss_fn, optimizer, device):\n",
    "    model.eval()\n",
    "    \n",
    "    val_loss, val_acc = 0, 0\n",
    "    with torch.inference_mode():\n",
    "        for X, y in dataloader:\n",
    "            X, y = X.to(device), y.to(device)\n",
    "            outputs = model(X)\n",
    "            loss = loss_fn(outputs, y)\n",
    "            val_loss += loss.item()\n",
    "            y_preds = outputs.argmax(dim=1)\n",
    "            val_acc += (y_preds == y).sum().item() / len(y_preds)\n",
    "\n",
    "    val_loss /= len(dataloader)\n",
    "    val_acc /= len(dataloader)\n",
    "    return val_loss, val_acc\n",
    "\n",
    "# Train step\n",
    "def train(model, train_dl, val_dl, optimizer, loss_fn, epochs, device, scheduler=None, writer=None):\n",
    "\n",
    "    results = {'train_loss': [], 'train_acc': [],\n",
    "               'val_loss': [], 'val_acc': [],\n",
    "               'learning_rates': []}\n",
    "    for epoch in range(epochs):\n",
    "        \n",
    "        train_loss, train_acc = train_step(model, train_dl, loss_fn, optimizer, device)\n",
    "            \n",
    "        val_loss, val_acc = val_step(model, val_dl, loss_fn, optimizer, device)\n",
    "        current_lr = optimizer.param_groups[0]['lr']\n",
    "        \n",
    "        if scheduler is not None:\n",
    "            if isinstance(scheduler, torch.optim.lr_scheduler.ReduceLROnPlateau):\n",
    "                scheduler.step(val_loss)\n",
    "            else:\n",
    "                scheduler.step()\n",
    "\n",
    "        \n",
    "        results['train_loss'].append(train_loss)\n",
    "        results['train_acc'].append(train_acc)\n",
    "        results['val_loss'].append(val_loss)\n",
    "        results['val_acc'].append(val_acc)\n",
    "        results['learning_rates'].append(current_lr)\n",
    "\n",
    "        print(\n",
    "            f\"Epoch {epoch+1}/{epochs} | \"\n",
    "            f\"Loss: {train_loss:.4f} | Acc: {train_acc*100:.2f}% | \"\n",
    "            f\"Val Loss: {val_loss:.4f} | Val Acc: {val_acc*100:.2f}% |\"\n",
    "            f\"Lr: {current_lr:.2e}\"\n",
    "        )\n",
    "        if writer:\n",
    "            writer.add_scalars(main_tag='Loss',\n",
    "                              tag_scalar_dict={'train_loss': train_loss,\n",
    "                                             'val_loss': val_loss},\n",
    "                              global_step=epoch)\n",
    "            writer.add_scalars(main_tag='Accuracy',\n",
    "                              tag_scalar_dict={'train_acc': train_acc,\n",
    "                                              'val_acc': val_acc},\n",
    "                              global_step=epoch)\n",
    "\n",
    "    if writer:\n",
    "        writer.close()\n",
    "            \n",
    "    return results"
   ]
  },
  {
   "cell_type": "markdown",
   "id": "5ed2a914",
   "metadata": {
    "papermill": {
     "duration": 0.003464,
     "end_time": "2025-10-01T00:52:56.891469",
     "exception": false,
     "start_time": "2025-10-01T00:52:56.888005",
     "status": "completed"
    },
    "tags": []
   },
   "source": [
    "## -- AUGMENTATION STEP --"
   ]
  },
  {
   "cell_type": "code",
   "execution_count": 9,
   "id": "9fb091c5",
   "metadata": {
    "_cell_guid": "f33d217b-2e8a-4568-9589-f6670dc6d3b5",
    "_uuid": "d6f53590-cd4e-4312-b377-7e4f403093a3",
    "collapsed": false,
    "execution": {
     "iopub.execute_input": "2025-10-01T00:52:56.901501Z",
     "iopub.status.busy": "2025-10-01T00:52:56.901308Z",
     "iopub.status.idle": "2025-10-01T00:52:56.904842Z",
     "shell.execute_reply": "2025-10-01T00:52:56.904323Z"
    },
    "jupyter": {
     "outputs_hidden": false
    },
    "papermill": {
     "duration": 0.010274,
     "end_time": "2025-10-01T00:52:56.905877",
     "exception": false,
     "start_time": "2025-10-01T00:52:56.895603",
     "status": "completed"
    },
    "tags": []
   },
   "outputs": [],
   "source": [
    "# set_seed()\n",
    "# lr = 1e-3\n",
    "# epochs = 30\n",
    "\n",
    "# train_transforms = {'no_aug':base_transforms,\n",
    "#                     'geo_aug':train_transform_geo,\n",
    "#                     'non_geo_aug':train_transform_geo_ngeo}\n",
    "# experiment_number = 0\n",
    "\n",
    "# for t_name, t_transform in train_transforms.items():  # FIXED: .items() not .item()\n",
    "#     # Create new model and optimizer for each experiment\n",
    "#     model = BaseNet(len(class_names)).to(device)\n",
    "#     optimizer = torch.optim.Adam(params=model.parameters(), lr=lr)\n",
    "#     loss_fn = torch.nn.CrossEntropyLoss()\n",
    "    \n",
    "#     # Create train dataset with current transform\n",
    "#     train_dataset = TransformDataset(train_subset, t_transform)\n",
    "#     train_dl = DataLoader(train_dataset, batch_size=BATCH_SIZE, shuffle=True,\n",
    "#                          pin_memory=True, num_workers=NUM_WORKERS)\n",
    "    \n",
    "#     experiment_number += 1\n",
    "#     print(f\"\\n[INFO] Experiment number: {experiment_number}\")\n",
    "#     print(f\"[INFO] Transform Approach: {t_name}\")\n",
    "#     print('-' * 60)\n",
    "    \n",
    "#     # Train model\n",
    "#     results = train(model, train_dl, val_dl, optimizer, loss_fn, epochs, device,\n",
    "#                     writer=create_writer(exp_name=t_name, model_name='baseline_cnn'))\n",
    "    \n",
    "#     # Plot results for this experiment\n",
    "#     train_loss = results['train_loss']\n",
    "#     train_acc = results['train_acc']\n",
    "#     val_loss = results['val_loss']\n",
    "#     val_acc = results['val_acc']\n",
    "    \n",
    "#     epochs_ = range(len(train_loss))\n",
    "#     plt.figure(figsize=(18, 5))\n",
    "    \n",
    "#     plt.subplot(1, 2, 1)\n",
    "#     plt.plot(epochs_, train_loss, label='train_loss')\n",
    "#     plt.plot(epochs_, val_loss, label='val_loss')\n",
    "#     plt.xlabel('Epochs')\n",
    "#     plt.ylabel('Loss')\n",
    "#     plt.title(f'Loss - {t_name}')\n",
    "#     plt.legend()\n",
    "    \n",
    "#     plt.subplot(1, 2, 2)\n",
    "#     plt.plot(epochs_, train_acc, label='train_acc')\n",
    "#     plt.plot(epochs_, val_acc, label='val_acc')\n",
    "#     plt.ylabel('Accuracy')\n",
    "#     plt.xlabel('Epochs')\n",
    "#     plt.title(f'Accuracy - {t_name}')\n",
    "#     plt.legend()\n",
    "    \n",
    "#     plt.tight_layout()\n",
    "#     plt.show()\n",
    "    \n",
    "#     print('=' * 60 + '\\n')"
   ]
  },
  {
   "cell_type": "code",
   "execution_count": 10,
   "id": "4740e2d1",
   "metadata": {
    "_cell_guid": "e82707e3-d703-44a8-bbf0-78235d6b114d",
    "_uuid": "fe47a8f9-d15e-4a4a-b796-9702b82dcf18",
    "collapsed": false,
    "execution": {
     "iopub.execute_input": "2025-10-01T00:52:56.913747Z",
     "iopub.status.busy": "2025-10-01T00:52:56.913516Z",
     "iopub.status.idle": "2025-10-01T00:52:56.916497Z",
     "shell.execute_reply": "2025-10-01T00:52:56.915846Z"
    },
    "jupyter": {
     "outputs_hidden": false
    },
    "papermill": {
     "duration": 0.008151,
     "end_time": "2025-10-01T00:52:56.917604",
     "exception": false,
     "start_time": "2025-10-01T00:52:56.909453",
     "status": "completed"
    },
    "tags": []
   },
   "outputs": [],
   "source": [
    "# # Create timestamped filename\n",
    "# timestamp = datetime.now().strftime(\"%Y%m%d_%H%M\")\n",
    "# zip_name = f\"tensorboard_logs_{timestamp}\"\n",
    "\n",
    "# # Compress\n",
    "# shutil.make_archive(zip_name, 'zip', \"runs\")\n",
    "# print(f\"✓ Download {zip_name}.zip from Output tab\")"
   ]
  },
  {
   "cell_type": "markdown",
   "id": "fdd775a5",
   "metadata": {
    "_cell_guid": "c1b97084-7c6a-4683-8a50-d0749afc36fa",
    "_uuid": "2fb1c341-373b-4a0e-a5d3-e8af6798afd2",
    "collapsed": false,
    "jupyter": {
     "outputs_hidden": false
    },
    "papermill": {
     "duration": 0.00337,
     "end_time": "2025-10-01T00:52:56.924596",
     "exception": false,
     "start_time": "2025-10-01T00:52:56.921226",
     "status": "completed"
    },
    "tags": []
   },
   "source": [
    "## -- LEARNING RATE FINDER; SGD, ADAM, ADAMW, LION --"
   ]
  },
  {
   "cell_type": "code",
   "execution_count": 11,
   "id": "22eba172",
   "metadata": {
    "execution": {
     "iopub.execute_input": "2025-10-01T00:52:56.932451Z",
     "iopub.status.busy": "2025-10-01T00:52:56.932263Z",
     "iopub.status.idle": "2025-10-01T00:52:56.935384Z",
     "shell.execute_reply": "2025-10-01T00:52:56.934903Z"
    },
    "jupyter": {
     "source_hidden": true
    },
    "papermill": {
     "duration": 0.008108,
     "end_time": "2025-10-01T00:52:56.936362",
     "exception": false,
     "start_time": "2025-10-01T00:52:56.928254",
     "status": "completed"
    },
    "tags": []
   },
   "outputs": [],
   "source": [
    "# class Lion(Optimizer):\n",
    "#     def __init__(self, params, lr=1e-4, betas=(0.9, 0.99), weight_decay=0.0):\n",
    "#         defaults = dict(lr=lr, betas=betas, weight_decay=weight_decay)\n",
    "#         super().__init__(params, defaults)\n",
    "\n",
    "#     @torch.no_grad()\n",
    "#     def step(self, closure=None):\n",
    "#         loss = None\n",
    "#         if closure is not None:\n",
    "#             with torch.enable_grad():\n",
    "#                 loss = closure()\n",
    "\n",
    "#         for group in self.param_groups:\n",
    "#             for p in group['params']:\n",
    "#                 if p.grad is None:\n",
    "#                     continue\n",
    "\n",
    "#                 grad = p.grad\n",
    "#                 state = self.state[p]\n",
    "\n",
    "#                 # State initialization\n",
    "#                 if len(state) == 0:\n",
    "#                     state['exp_avg'] = torch.zeros_like(p)\n",
    "\n",
    "#                 exp_avg = state['exp_avg']\n",
    "#                 beta1, beta2 = group['betas']\n",
    "#                 lr = group['lr']\n",
    "#                 weight_decay = group['weight_decay']\n",
    "\n",
    "#                 # Lion update\n",
    "#                 update = exp_avg * beta1 + grad * (1 - beta1)\n",
    "#                 p.add_(torch.sign(update), alpha=-lr)\n",
    "                \n",
    "#                 # Weight decay\n",
    "#                 if weight_decay != 0:\n",
    "#                     p.add_(p, alpha=-lr * weight_decay)\n",
    "                \n",
    "#                 # Update momentum\n",
    "#                 exp_avg.mul_(beta2).add_(grad, alpha=1 - beta2)\n",
    "\n",
    "#         return loss"
   ]
  },
  {
   "cell_type": "code",
   "execution_count": 12,
   "id": "f3ee6dd5",
   "metadata": {
    "execution": {
     "iopub.execute_input": "2025-10-01T00:52:56.944828Z",
     "iopub.status.busy": "2025-10-01T00:52:56.944337Z",
     "iopub.status.idle": "2025-10-01T00:52:56.947580Z",
     "shell.execute_reply": "2025-10-01T00:52:56.947071Z"
    },
    "jupyter": {
     "source_hidden": true
    },
    "papermill": {
     "duration": 0.008277,
     "end_time": "2025-10-01T00:52:56.948591",
     "exception": false,
     "start_time": "2025-10-01T00:52:56.940314",
     "status": "completed"
    },
    "tags": []
   },
   "outputs": [],
   "source": [
    "# def run_lr_finder(optimizer_class, loss_fn, optimizer_kwargs=None):\n",
    "#     if optimizer_kwargs is None:\n",
    "#         optimizer_kwargs = {}\n",
    "\n",
    "#     # fresh model\n",
    "#     model_for_finder = BaseNet(len(class_names)).to(device)\n",
    "\n",
    "#     # Optimizer with initial LR\n",
    "#     base_kwargs = {'lr': 1e-6}\n",
    "#     base_kwargs.update(optimizer_kwargs)\n",
    "#     optimizer_for_finder = optimizer_class(model_for_finder.parameters(), **base_kwargs)\n",
    "\n",
    "#     # LR finder setup\n",
    "#     trainer = create_supervised_trainer(model_for_finder, optimizer_for_finder, loss_fn, device=device)\n",
    "#     ProgressBar(persist=True).attach(trainer)\n",
    "\n",
    "#     lr_finder = FastaiLRFinder()\n",
    "#     to_save = {'model': model_for_finder,\n",
    "#                'optimizer': optimizer_for_finder}\n",
    "\n",
    "#     print(f\"Running LR Finder for {optimizer_class.__name__}...\")\n",
    "#     with lr_finder.attach(trainer, to_save, diverge_th=1.5) as trainer_with_lr_finder:\n",
    "#         trainer_with_lr_finder.run(train_dl)\n",
    "\n",
    "#     suggested_lr = lr_finder.lr_suggestion()\n",
    "#     print(f\"Suggested LR for {optimizer_class.__name__}: {suggested_lr}\")\n",
    "\n",
    "#     # cleanup\n",
    "#     del model_for_finder, optimizer_for_finder, trainer, lr_finder\n",
    "#     torch.cuda.empty_cache()\n",
    "#     return suggested_lr"
   ]
  },
  {
   "cell_type": "code",
   "execution_count": 13,
   "id": "79a74998",
   "metadata": {
    "execution": {
     "iopub.execute_input": "2025-10-01T00:52:56.956789Z",
     "iopub.status.busy": "2025-10-01T00:52:56.956223Z",
     "iopub.status.idle": "2025-10-01T00:52:56.959270Z",
     "shell.execute_reply": "2025-10-01T00:52:56.958777Z"
    },
    "jupyter": {
     "source_hidden": true
    },
    "papermill": {
     "duration": 0.00809,
     "end_time": "2025-10-01T00:52:56.960230",
     "exception": false,
     "start_time": "2025-10-01T00:52:56.952140",
     "status": "completed"
    },
    "tags": []
   },
   "outputs": [],
   "source": [
    "# loss_fn = torch.nn.CrossEntropyLoss()\n",
    "# optimizer_configs = {\n",
    "#     'Adam': (torch.optim.Adam, {}),\n",
    "#     'AdamW': (torch.optim.AdamW, {'weight_decay':0.01}),\n",
    "#     'SGD': (torch.optim.SGD, {'momentum':0.9}),\n",
    "#     'Lion': (Lion, {'betas': (0.9, 0.99), 'weight_decay':0.01})\n",
    "# }\n",
    "\n",
    "# suggested_lrs = {}\n",
    "# for name, (opt_class, kwargs) in optimizer_configs.items():\n",
    "#     suggested_lrs[name] = run_lr_finder(opt_class, loss_fn, kwargs)\n",
    "\n",
    "# print('Suggested learning rates:', suggested_lrs)"
   ]
  },
  {
   "cell_type": "code",
   "execution_count": 14,
   "id": "05a92b9b",
   "metadata": {
    "execution": {
     "iopub.execute_input": "2025-10-01T00:52:56.968031Z",
     "iopub.status.busy": "2025-10-01T00:52:56.967796Z",
     "iopub.status.idle": "2025-10-01T00:52:56.970884Z",
     "shell.execute_reply": "2025-10-01T00:52:56.970238Z"
    },
    "jupyter": {
     "source_hidden": true
    },
    "papermill": {
     "duration": 0.008108,
     "end_time": "2025-10-01T00:52:56.971914",
     "exception": false,
     "start_time": "2025-10-01T00:52:56.963806",
     "status": "completed"
    },
    "tags": []
   },
   "outputs": [],
   "source": [
    "# for name, suggested_lr in suggested_lrs.items():\n",
    "#     opt_class, base_kwargs = optimizer_configs[name]\n",
    "\n",
    "#     model = BaseNet(len(class_names)).to(device)\n",
    "\n",
    "#     kwargs = base_kwargs.copy()\n",
    "#     kwargs['lr'] = suggested_lr\n",
    "#     optimizer = opt_class(model.parameters(), **kwargs)\n",
    "\n",
    "#     trainer = create_supervised_trainer(model, optimizer, loss_fn, device=device)\n",
    "\n",
    "#     evaluator = create_supervised_evaluator(model,\n",
    "#                                            metrics={\n",
    "#                                                'acc': Accuracy(),\n",
    "#                                                'loss': Loss(loss_fn)\n",
    "#                                            }, device=device)\n",
    "#     print(f\"\\nTraining {name} with Lr: {suggested_lr}\")\n",
    "#     trainer.run(train_dl, max_epochs=30)\n",
    "\n",
    "#     evaluator.run(val_dl)\n",
    "#     print(f\"{name} final metrics: {evaluator.state.metrics}\")"
   ]
  },
  {
   "cell_type": "markdown",
   "id": "439e0629",
   "metadata": {
    "papermill": {
     "duration": 0.003418,
     "end_time": "2025-10-01T00:52:56.978847",
     "exception": false,
     "start_time": "2025-10-01T00:52:56.975429",
     "status": "completed"
    },
    "tags": []
   },
   "source": [
    "## -- SCHEDULER STEP --"
   ]
  },
  {
   "cell_type": "code",
   "execution_count": 15,
   "id": "a7a5b098",
   "metadata": {
    "execution": {
     "iopub.execute_input": "2025-10-01T00:52:56.986786Z",
     "iopub.status.busy": "2025-10-01T00:52:56.986521Z",
     "iopub.status.idle": "2025-10-01T03:55:32.621312Z",
     "shell.execute_reply": "2025-10-01T03:55:32.620495Z"
    },
    "papermill": {
     "duration": 10955.641828,
     "end_time": "2025-10-01T03:55:32.624217",
     "exception": false,
     "start_time": "2025-10-01T00:52:56.982389",
     "status": "completed"
    },
    "tags": []
   },
   "outputs": [
    {
     "name": "stdout",
     "output_type": "stream",
     "text": [
      "\n",
      "[INFO] Experiment number: 1\n",
      "[INFO] Testing Optimizer: ReduceLROnPlateau\n",
      "------------------------------------------------------------\n",
      "Created SummaryWriter: saving to: runs/2025-10-01/Sched_compare_ReduceLROnPlateau/baseline_cnn\n"
     ]
    },
    {
     "name": "stderr",
     "output_type": "stream",
     "text": [
      "/usr/local/lib/python3.11/dist-packages/torch/optim/lr_scheduler.py:62: UserWarning: The verbose parameter is deprecated. Please use get_last_lr() to access the learning rate.\n",
      "  warnings.warn(\n"
     ]
    },
    {
     "name": "stdout",
     "output_type": "stream",
     "text": [
      "Epoch 1/50 | Loss: 1.7965 | Acc: 24.97% | Val Loss: 1.7675 | Val Acc: 27.71% |Lr: 5.25e-04\n",
      "Epoch 2/50 | Loss: 1.7712 | Acc: 27.22% | Val Loss: 1.7708 | Val Acc: 27.35% |Lr: 5.25e-04\n",
      "Epoch 3/50 | Loss: 1.7626 | Acc: 27.85% | Val Loss: 1.7527 | Val Acc: 28.18% |Lr: 5.25e-04\n",
      "Epoch 4/50 | Loss: 1.7557 | Acc: 28.37% | Val Loss: 1.7417 | Val Acc: 28.70% |Lr: 5.25e-04\n",
      "Epoch 5/50 | Loss: 1.7471 | Acc: 28.96% | Val Loss: 1.7288 | Val Acc: 29.36% |Lr: 5.25e-04\n",
      "Epoch 6/50 | Loss: 1.7409 | Acc: 29.34% | Val Loss: 1.7337 | Val Acc: 29.79% |Lr: 5.25e-04\n",
      "Epoch 7/50 | Loss: 1.7361 | Acc: 29.60% | Val Loss: 1.7186 | Val Acc: 30.31% |Lr: 5.25e-04\n",
      "Epoch 8/50 | Loss: 1.7260 | Acc: 29.94% | Val Loss: 1.7145 | Val Acc: 30.64% |Lr: 5.25e-04\n",
      "Epoch 9/50 | Loss: 1.7205 | Acc: 30.16% | Val Loss: 1.7026 | Val Acc: 30.56% |Lr: 5.25e-04\n",
      "Epoch 10/50 | Loss: 1.7131 | Acc: 30.65% | Val Loss: 1.6930 | Val Acc: 32.10% |Lr: 5.25e-04\n",
      "Epoch 11/50 | Loss: 1.7060 | Acc: 30.87% | Val Loss: 1.6940 | Val Acc: 30.89% |Lr: 5.25e-04\n",
      "Epoch 12/50 | Loss: 1.6985 | Acc: 31.42% | Val Loss: 1.7265 | Val Acc: 29.03% |Lr: 5.25e-04\n",
      "Epoch 13/50 | Loss: 1.6926 | Acc: 31.96% | Val Loss: 1.6681 | Val Acc: 32.91% |Lr: 5.25e-04\n",
      "Epoch 14/50 | Loss: 1.6840 | Acc: 32.26% | Val Loss: 1.6789 | Val Acc: 32.29% |Lr: 5.25e-04\n",
      "Epoch 15/50 | Loss: 1.6769 | Acc: 32.64% | Val Loss: 1.6615 | Val Acc: 33.26% |Lr: 5.25e-04\n",
      "Epoch 16/50 | Loss: 1.6686 | Acc: 33.16% | Val Loss: 1.6716 | Val Acc: 32.42% |Lr: 5.25e-04\n",
      "Epoch 17/50 | Loss: 1.6603 | Acc: 33.31% | Val Loss: 1.6360 | Val Acc: 34.45% |Lr: 5.25e-04\n",
      "Epoch 18/50 | Loss: 1.6575 | Acc: 33.51% | Val Loss: 1.6436 | Val Acc: 34.33% |Lr: 5.25e-04\n",
      "Epoch 19/50 | Loss: 1.6424 | Acc: 34.22% | Val Loss: 1.6285 | Val Acc: 35.20% |Lr: 5.25e-04\n",
      "Epoch 20/50 | Loss: 1.6404 | Acc: 34.59% | Val Loss: 1.6251 | Val Acc: 34.66% |Lr: 5.25e-04\n",
      "Epoch 21/50 | Loss: 1.6307 | Acc: 35.09% | Val Loss: 1.6183 | Val Acc: 34.60% |Lr: 5.25e-04\n",
      "Epoch 22/50 | Loss: 1.6307 | Acc: 34.87% | Val Loss: 1.6527 | Val Acc: 35.00% |Lr: 5.25e-04\n",
      "Epoch 23/50 | Loss: 1.6191 | Acc: 35.56% | Val Loss: 1.6247 | Val Acc: 34.90% |Lr: 5.25e-04\n",
      "Epoch 24/50 | Loss: 1.6097 | Acc: 36.17% | Val Loss: 1.5958 | Val Acc: 36.57% |Lr: 5.25e-04\n",
      "Epoch 25/50 | Loss: 1.5999 | Acc: 36.75% | Val Loss: 1.5939 | Val Acc: 37.39% |Lr: 5.25e-04\n",
      "Epoch 26/50 | Loss: 1.5932 | Acc: 37.00% | Val Loss: 1.5731 | Val Acc: 38.77% |Lr: 5.25e-04\n",
      "Epoch 27/50 | Loss: 1.5850 | Acc: 37.42% | Val Loss: 1.5948 | Val Acc: 35.18% |Lr: 5.25e-04\n",
      "Epoch 28/50 | Loss: 1.5786 | Acc: 37.97% | Val Loss: 1.5626 | Val Acc: 37.51% |Lr: 5.25e-04\n",
      "Epoch 29/50 | Loss: 1.5676 | Acc: 38.51% | Val Loss: 1.5492 | Val Acc: 38.43% |Lr: 5.25e-04\n",
      "Epoch 30/50 | Loss: 1.5606 | Acc: 38.67% | Val Loss: 1.5590 | Val Acc: 38.74% |Lr: 5.25e-04\n",
      "Epoch 31/50 | Loss: 1.5549 | Acc: 39.05% | Val Loss: 1.5342 | Val Acc: 40.12% |Lr: 5.25e-04\n",
      "Epoch 32/50 | Loss: 1.5457 | Acc: 39.16% | Val Loss: 1.5354 | Val Acc: 39.82% |Lr: 5.25e-04\n",
      "Epoch 33/50 | Loss: 1.5354 | Acc: 40.28% | Val Loss: 1.5206 | Val Acc: 40.19% |Lr: 5.25e-04\n",
      "Epoch 34/50 | Loss: 1.5258 | Acc: 40.71% | Val Loss: 1.5251 | Val Acc: 40.93% |Lr: 5.25e-04\n",
      "Epoch 35/50 | Loss: 1.5187 | Acc: 41.01% | Val Loss: 1.5022 | Val Acc: 41.97% |Lr: 5.25e-04\n",
      "Epoch 36/50 | Loss: 1.5085 | Acc: 41.53% | Val Loss: 1.5290 | Val Acc: 39.50% |Lr: 5.25e-04\n",
      "Epoch 37/50 | Loss: 1.5068 | Acc: 41.56% | Val Loss: 1.4954 | Val Acc: 41.36% |Lr: 5.25e-04\n",
      "Epoch 38/50 | Loss: 1.4971 | Acc: 41.95% | Val Loss: 1.4919 | Val Acc: 42.10% |Lr: 5.25e-04\n",
      "Epoch 39/50 | Loss: 1.4890 | Acc: 42.17% | Val Loss: 1.4855 | Val Acc: 41.92% |Lr: 5.25e-04\n",
      "Epoch 40/50 | Loss: 1.4842 | Acc: 42.82% | Val Loss: 1.4843 | Val Acc: 41.93% |Lr: 5.25e-04\n",
      "Epoch 41/50 | Loss: 1.4714 | Acc: 43.26% | Val Loss: 1.4876 | Val Acc: 41.53% |Lr: 5.25e-04\n",
      "Epoch 42/50 | Loss: 1.4694 | Acc: 43.28% | Val Loss: 1.4843 | Val Acc: 42.56% |Lr: 5.25e-04\n",
      "Epoch 43/50 | Loss: 1.4662 | Acc: 43.34% | Val Loss: 1.4639 | Val Acc: 43.17% |Lr: 5.25e-04\n",
      "Epoch 44/50 | Loss: 1.4600 | Acc: 43.55% | Val Loss: 1.4683 | Val Acc: 42.70% |Lr: 5.25e-04\n",
      "Epoch 45/50 | Loss: 1.4558 | Acc: 43.56% | Val Loss: 1.4646 | Val Acc: 43.09% |Lr: 5.25e-04\n",
      "Epoch 46/50 | Loss: 1.4483 | Acc: 43.93% | Val Loss: 1.4739 | Val Acc: 43.12% |Lr: 5.25e-04\n",
      "Epoch 47/50 | Loss: 1.4463 | Acc: 44.08% | Val Loss: 1.4982 | Val Acc: 41.63% |Lr: 5.25e-04\n",
      "Epoch 48/50 | Loss: 1.4394 | Acc: 44.31% | Val Loss: 1.4650 | Val Acc: 42.66% |Lr: 5.25e-04\n",
      "Epoch 49/50 | Loss: 1.4394 | Acc: 44.11% | Val Loss: 1.4394 | Val Acc: 43.35% |Lr: 5.25e-04\n",
      "Epoch 50/50 | Loss: 1.4299 | Acc: 44.86% | Val Loss: 1.4917 | Val Acc: 41.73% |Lr: 5.25e-04\n"
     ]
    },
    {
     "data": {
      "image/png": "[encoded data removed]",
      "text/plain": [
       "<Figure size 2000x500 with 3 Axes>"
      ]
     },
     "metadata": {},
     "output_type": "display_data"
    },
    {
     "name": "stdout",
     "output_type": "stream",
     "text": [
      "============================================================\n",
      "\n"
     ]
    }
   ],
   "source": [
    "set_seed()\n",
    "lr = 5.25e-4\n",
    "epochs = 50\n",
    "\n",
    "# train_dataset = TransformDataset(train_subset, train_transform_geo)\n",
    "# train_dl = DataLoader(train_dataset, batch_size=BATCH_SIZE, shuffle=True,\n",
    "#                          pin_memory=True, num_workers=NUM_WORKERS)\n",
    "scheduler_configs = {\n",
    "    'ReduceLROnPlateau': {\n",
    "        'constructor': torch.optim.lr_scheduler.ReduceLROnPlateau,\n",
    "        'kwargs': {'mode': 'min', 'patience': 5, 'factor': 0.5, 'verbose': True}  # Fixed!\n",
    "    }\n",
    "}\n",
    "\n",
    "experiment_number = 0\n",
    "\n",
    "for conf_name, config in scheduler_configs.items():\n",
    "    # Create new model and optimizer for each experiment\n",
    "    model = BaseNet(len(class_names)).to(device)\n",
    "    optimizer = torch.optim.Adam(params=model.parameters(), lr=lr)\n",
    "    loss_fn = torch.nn.CrossEntropyLoss()\n",
    "\n",
    "    scheduler = config['constructor'](optimizer, **config['kwargs'])\n",
    "    \n",
    "    experiment_number += 1\n",
    "    print(f\"\\n[INFO] Experiment number: {experiment_number}\")\n",
    "    print(f\"[INFO] Testing Optimizer: {conf_name}\")\n",
    "    print('-' * 60)\n",
    "\n",
    "    \n",
    "    results = train(model, train_dl, val_dl, optimizer, loss_fn, epochs, device, scheduler=scheduler,\n",
    "                    writer=create_writer(exp_name=f\"Sched_compare_{conf_name}\", model_name='baseline_cnn'))\n",
    "    \n",
    "    # Plot results for this experiment\n",
    "    train_loss = results['train_loss']\n",
    "    train_acc = results['train_acc']\n",
    "    val_loss = results['val_loss']\n",
    "    val_acc = results['val_acc']\n",
    "    learning_rates = results['learning_rates']\n",
    "    \n",
    "    epochs_ = range(len(train_loss))\n",
    "    plt.figure(figsize=(20, 5))\n",
    "    \n",
    "    # Subplot 1: Loss\n",
    "    plt.subplot(1, 3, 1)\n",
    "    plt.plot(epochs_, train_loss, label='train_loss')\n",
    "    plt.plot(epochs_, val_loss, label='val_loss')\n",
    "    plt.xlabel('Epochs')\n",
    "    plt.ylabel('Loss')\n",
    "    plt.title(f'Loss - {conf_name}')\n",
    "    plt.legend()\n",
    "    \n",
    "    # Subplot 2: Accuracy\n",
    "    plt.subplot(1, 3, 2)\n",
    "    plt.plot(epochs_, train_acc, label='train_acc')\n",
    "    plt.plot(epochs_, val_acc, label='val_acc')\n",
    "    plt.xlabel('Epochs')\n",
    "    plt.ylabel('Accuracy')\n",
    "    plt.title(f'Accuracy - {conf_name}')\n",
    "    plt.legend()\n",
    "    \n",
    "    # Subplot 3: Learning Rate Schedule (FIXED)\n",
    "    plt.subplot(1, 3, 3)\n",
    "    plt.plot(epochs_, learning_rates, label='learning_rate')\n",
    "    plt.xlabel('Epochs')\n",
    "    plt.ylabel('Learning Rate')\n",
    "    plt.title(f'LR Schedule - {conf_name}')  # FIXED: plt.title() not plt.titlef()\n",
    "    plt.yscale('log')\n",
    "    plt.grid(True, alpha=0.3)\n",
    "    plt.legend()\n",
    "\n",
    "    plt.tight_layout()\n",
    "    plt.show()\n",
    "    \n",
    "    print('=' * 60 + '\\n')\n"
   ]
  },
  {
   "cell_type": "code",
   "execution_count": 16,
   "id": "5ab345ff",
   "metadata": {
    "execution": {
     "iopub.execute_input": "2025-10-01T03:55:32.640248Z",
     "iopub.status.busy": "2025-10-01T03:55:32.640037Z",
     "iopub.status.idle": "2025-10-01T03:55:32.647116Z",
     "shell.execute_reply": "2025-10-01T03:55:32.646371Z"
    },
    "papermill": {
     "duration": 0.016171,
     "end_time": "2025-10-01T03:55:32.648194",
     "exception": false,
     "start_time": "2025-10-01T03:55:32.632023",
     "status": "completed"
    },
    "tags": []
   },
   "outputs": [
    {
     "name": "stdout",
     "output_type": "stream",
     "text": [
      "✓ Download tensorboard_logs_20251001_0355.zip from Output tab\n"
     ]
    }
   ],
   "source": [
    "# Create timestamped filename\n",
    "timestamp = datetime.now().strftime(\"%Y%m%d_%H%M\")\n",
    "zip_name = f\"tensorboard_logs_{timestamp}\"\n",
    "\n",
    "# Compress\n",
    "shutil.make_archive(zip_name, 'zip', \"runs\")\n",
    "print(f\"✓ Download {zip_name}.zip from Output tab\")"
   ]
  },
  {
   "cell_type": "markdown",
   "id": "2b831386",
   "metadata": {
    "papermill": {
     "duration": 0.007025,
     "end_time": "2025-10-01T03:55:32.662338",
     "exception": false,
     "start_time": "2025-10-01T03:55:32.655313",
     "status": "completed"
    },
    "tags": []
   },
   "source": [
    "## -- EVALUATION ON TEST DATA --"
   ]
  },
  {
   "cell_type": "code",
   "execution_count": 17,
   "id": "1462bed7",
   "metadata": {
    "_cell_guid": "da0aca07-bb39-41b7-9585-d31be9f05bb7",
    "_uuid": "c3d8d358-ef8c-452d-b227-5340a3ba26ec",
    "execution": {
     "iopub.execute_input": "2025-10-01T03:55:32.680127Z",
     "iopub.status.busy": "2025-10-01T03:55:32.679950Z",
     "iopub.status.idle": "2025-10-01T03:55:32.683232Z",
     "shell.execute_reply": "2025-10-01T03:55:32.682755Z"
    },
    "papermill": {
     "duration": 0.014002,
     "end_time": "2025-10-01T03:55:32.684245",
     "exception": false,
     "start_time": "2025-10-01T03:55:32.670243",
     "status": "completed"
    },
    "tags": []
   },
   "outputs": [],
   "source": [
    "# def evaluation_step(model, test_dl, loss_fn, class_names, device):\n",
    "#     model.eval()\n",
    "#     test_loss, test_acc = 0, 0\n",
    "#     y_true, y_pred = [], []\n",
    "\n",
    "#     with torch.inference_mode():\n",
    "#         for X, y in test_dl:\n",
    "#             X, y = X.to(device), y.to(device)\n",
    "#             outputs = model(X)\n",
    "#             loss = loss_fn(outputs, y)\n",
    "#             test_loss += loss.item()\n",
    "\n",
    "#             preds = outputs.argmax(dim=1)\n",
    "#             test_acc += (preds == y).sum().item() / len(preds)\n",
    "\n",
    "#             y_true.extend(y.cpu().numpy())\n",
    "#             y_pred.extend(preds.cpu().numpy())\n",
    "\n",
    "#     avg_loss = test_loss / len(test_dl)\n",
    "#     avg_acc = test_acc / len(test_dl)\n",
    "#     test_f1 = f1_score(y_true, y_pred, average='macro')\n",
    "    \n",
    "#     tqdm.write(f\"Test Loss: {avg_loss:.4f} | Test Acc: {avg_acc*100:.2f}% | Test F1: {test_f1:.4f}\")\n",
    "\n",
    "#     cm = confusion_matrix(y_true, y_pred, labels=range(len(class_names_)))\n",
    "    \n",
    "#     disp = ConfusionMatrixDisplay(cm, display_labels=class_names_)\n",
    "    \n",
    "#     disp.plot(cmap='Blues', xticks_rotation=45)\n",
    "#     plt.xticks(fontsize=8)\n",
    "#     plt.yticks(fontsize=8)\n",
    "#     plt.tight_layout()\n",
    "#     plt.show()\n",
    "\n",
    "# evaluation_step(model, test_dl, loss_fn, class_names_, device)"
   ]
  },
  {
   "cell_type": "code",
   "execution_count": null,
   "id": "6096c115",
   "metadata": {
    "_cell_guid": "94e7e8bb-20f5-47da-a546-50d563a45dd3",
    "_uuid": "363e9c22-817f-4c90-9463-767a9d9f6a05",
    "collapsed": false,
    "jupyter": {
     "outputs_hidden": false
    },
    "papermill": {
     "duration": 0.006866,
     "end_time": "2025-10-01T03:55:32.698205",
     "exception": false,
     "start_time": "2025-10-01T03:55:32.691339",
     "status": "completed"
    },
    "tags": []
   },
   "outputs": [],
   "source": []
  }
 ],
 "metadata": {
  "kaggle": {
   "accelerator": "nvidiaTeslaT4",
   "dataSources": [
    {
     "datasetId": 786787,
     "sourceId": 1351797,
     "sourceType": "datasetVersion"
    }
   ],
   "dockerImageVersionId": 31089,
   "isGpuEnabled": true,
   "isInternetEnabled": true,
   "language": "python",
   "sourceType": "notebook"
  },
  "kernelspec": {
   "display_name": "Python 3",
   "language": "python",
   "name": "python3"
  },
  "language_info": {
   "codemirror_mode": {
    "name": "ipython",
    "version": 3
   },
   "file_extension": ".py",
   "mimetype": "text/x-python",
   "name": "python",
   "nbconvert_exporter": "python",
   "pygments_lexer": "ipython3",
   "version": "3.11.13"
  },
  "papermill": {
   "default_parameters": {},
   "duration": 11058.374335,
   "end_time": "2025-10-01T03:55:36.154170",
   "environment_variables": {},
   "exception": null,
   "input_path": "__notebook__.ipynb",
   "output_path": "__notebook__.ipynb",
   "parameters": {},
   "start_time": "2025-10-01T00:51:17.779835",
   "version": "2.6.0"
  }
 },
 "nbformat": 4,
 "nbformat_minor": 5
}
